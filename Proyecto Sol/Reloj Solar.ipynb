{
 "cells": [
  {
   "cell_type": "code",
   "execution_count": 2,
   "metadata": {},
   "outputs": [
    {
     "output_type": "error",
     "ename": "ModuleNotFoundError",
     "evalue": "No module named 'numpy'",
     "traceback": [
      "\u001b[1;31m---------------------------------------------------------------------------\u001b[0m",
      "\u001b[1;31mModuleNotFoundError\u001b[0m                       Traceback (most recent call last)",
      "\u001b[1;32m<ipython-input-2-d0a1cc8929dc>\u001b[0m in \u001b[0;36m<module>\u001b[1;34m\u001b[0m\n\u001b[1;32m----> 1\u001b[1;33m \u001b[1;32mimport\u001b[0m \u001b[0mnumpy\u001b[0m \u001b[1;32mas\u001b[0m \u001b[0mnp\u001b[0m\u001b[1;33m\u001b[0m\u001b[1;33m\u001b[0m\u001b[0m\n\u001b[0m\u001b[0;32m      2\u001b[0m \u001b[1;32mimport\u001b[0m \u001b[0mmatplotlib\u001b[0m\u001b[1;33m.\u001b[0m\u001b[0mpyplot\u001b[0m \u001b[1;32mas\u001b[0m \u001b[0mplt\u001b[0m\u001b[1;33m\u001b[0m\u001b[1;33m\u001b[0m\u001b[0m\n\u001b[0;32m      3\u001b[0m \u001b[1;32mfrom\u001b[0m \u001b[0mastropy\u001b[0m\u001b[1;33m.\u001b[0m\u001b[0mtime\u001b[0m \u001b[1;32mimport\u001b[0m \u001b[0mTime\u001b[0m\u001b[1;33m\u001b[0m\u001b[1;33m\u001b[0m\u001b[0m\n\u001b[0;32m      4\u001b[0m \u001b[1;32mfrom\u001b[0m \u001b[0mastropy\u001b[0m\u001b[1;33m.\u001b[0m\u001b[0mcoordinates\u001b[0m \u001b[1;32mimport\u001b[0m \u001b[0mSkyCoord\u001b[0m\u001b[1;33m,\u001b[0m \u001b[0mEarthLocation\u001b[0m\u001b[1;33m,\u001b[0m \u001b[0mAltAz\u001b[0m\u001b[1;33m,\u001b[0m \u001b[0mget_sun\u001b[0m\u001b[1;33m\u001b[0m\u001b[1;33m\u001b[0m\u001b[0m\n\u001b[0;32m      5\u001b[0m \u001b[1;32mimport\u001b[0m \u001b[0mastropy\u001b[0m\u001b[1;33m.\u001b[0m\u001b[0munits\u001b[0m \u001b[1;32mas\u001b[0m \u001b[0mu\u001b[0m\u001b[1;33m\u001b[0m\u001b[1;33m\u001b[0m\u001b[0m\n",
      "\u001b[1;31mModuleNotFoundError\u001b[0m: No module named 'numpy'"
     ]
    }
   ],
   "source": [
    "import numpy as np\n",
    "import matplotlib.pyplot as plt\n",
    "from astropy.time import Time\n",
    "from astropy.coordinates import SkyCoord, EarthLocation, AltAz, get_sun\n",
    "import astropy.units as u\n",
    "import pandas as pd"
   ]
  },
  {
   "cell_type": "markdown",
   "metadata": {},
   "source": [
    "# RELOJ SOLAR\n",
    "\n",
    "### Uso del programa\n",
    "A continuación se explica la forma del código creado con el fin de obtener un Reloj Solar, o *Sundial*. Los datos adjuntos importantes son las siguientes listas:\n",
    "+ **Altacim:** Es un arreglo en 3D (Nhoras,Ndias,2) que para cada hora lista las coordenadas altacimutales del Analema Solar para Miami.\n",
    "+ **PointsXY** ó **PointsTR:** Son arreglos en 3D (Nhoras,Ndias,2) que contienen la proyección de dicho Analema como una sombra sobre el plano xy. A saber, la escala utilizada toma $1$ como la altura del gnomon, o en este caso, el SaturnoV que proyectará la sombra. Escalar según la necesidad. La lista XY es la que tiene los puntos cartesianos, y la lista TR es la que los tiene en coordenadas polares (Theta,R).\n",
    "+ **PointsXY2** ó **PointsTR2:** Aunque parezca trivial es un reshape de las listas anteriores pero en la forma (Ndias,Nhoras,2), de forma que si se grafica cada una de las listas del primer eje, no da como resultado el analema (Misma hora graficada en días diferentes) sino la trayectoria natural de la sombra (Mismo día graficado en horas diferentes).\n",
    "+ **HoraMinMaxXY** u **HoraMinMaxTR:** En muchos casos, los relojes solares no tienen en cuenta la ecuación del tiempo, entonces este arreglo contiene el máximo y mínimo de los Analemas para trazar la línea recta promedio. Son arreglod 3D (Nhoras,2,2) pues hay para cada hora dos puntos coordenados.\n",
    "\n",
    "Una complicación de la transferencia de los datos es el hecho de que estén en tres dimensiones, por este motivo se crearon las funciones `save3d` y `load3d` que toman como argumento el nombre del archivo en forma de string, sin extensión de archivo ni carpeta; TODOS los archivos deben estar en una carpeta adjunta llamada RelojSolar para que funcionen estos comandos, o si no, hay que cambiarlos en el bloque de código de aquí abajo. Muy básicamente, lo que hacen es tomar los puntos coordenados y volverlos un solo elemento tipo texto para tener así un arreglo de string en 2D y poderlo almacenar en un archivo excel (.xlsx).\n",
    "\n",
    "En resumidas cuentas, para graficar elementos del Reloj Solar:\n",
    "+ **Analema de cada Hora:** Usar los arreglos **Points**\n",
    "+ **Línea promedio de cada Hora:** Usar los arreglos **HoraMinMax**\n",
    "+ **Lineas Horizontales de Meses:** Usar los arreglos **Points2**\n",
    "\n",
    "Además, me parece más recomendable hacerlo todo en coordenadas polares pero es a discreción suya."
   ]
  },
  {
   "cell_type": "code",
   "execution_count": 69,
   "metadata": {},
   "outputs": [],
   "source": [
    "#Exportando\n",
    "def save3d(name,L): #En name solo poner el nombre en str, el programa le asigna la ruta y la extensión\n",
    "    a,b,c = L.shape\n",
    "    OUT = []\n",
    "    for i in range(a):\n",
    "        OUT.append([])\n",
    "        for j in range(b):\n",
    "            x = str(L[i,j,0])\n",
    "            y = str(L[i,j,1])\n",
    "            xy = x+\",\"+y\n",
    "            OUT[i].append(xy)\n",
    "    OUT2 = pd.DataFrame(OUT)\n",
    "    OUT2.to_excel(\"RelojSolar/\"+name+\".xlsx\")\n",
    "\n",
    "def load3d(name): #Usar para definir una lista: Lista1 = load3d(\"nombre_de_archivo_sin_extensión\")\n",
    "    IN = pd.read_excel(\"RelojSolar/\"+name+\".xlsx\",index_col=0)\n",
    "    a,b = IN.shape\n",
    "    OUT = np.full((a,b,2),np.nan)\n",
    "    for i in range(a):\n",
    "        for j in range(b):\n",
    "            x,y = IN.iloc[i,j].split(',')\n",
    "            OUT[i,j] = [x,y]\n",
    "    return OUT"
   ]
  },
  {
   "cell_type": "code",
   "execution_count": 70,
   "metadata": {},
   "outputs": [
    {
     "output_type": "error",
     "ename": "NameError",
     "evalue": "name 'EarthLocation' is not defined",
     "traceback": [
      "\u001b[1;31m---------------------------------------------------------------------------\u001b[0m",
      "\u001b[1;31mNameError\u001b[0m                                 Traceback (most recent call last)",
      "\u001b[1;32m<ipython-input-70-a3d969964d6e>\u001b[0m in \u001b[0;36m<module>\u001b[1;34m\u001b[0m\n\u001b[0;32m      2\u001b[0m \u001b[0mLon_Miami\u001b[0m \u001b[1;33m=\u001b[0m \u001b[1;33m-\u001b[0m\u001b[1;36m100.6\u001b[0m \u001b[1;31m#Longitud de Miami\u001b[0m\u001b[1;33m\u001b[0m\u001b[1;33m\u001b[0m\u001b[0m\n\u001b[0;32m      3\u001b[0m \u001b[0mdT\u001b[0m \u001b[1;33m=\u001b[0m \u001b[0mLon_Miami\u001b[0m \u001b[1;33m/\u001b[0m \u001b[1;36m15\u001b[0m \u001b[1;31m#Diferencia Horaria en Miami\u001b[0m\u001b[1;33m\u001b[0m\u001b[1;33m\u001b[0m\u001b[0m\n\u001b[1;32m----> 4\u001b[1;33m \u001b[0mMiami\u001b[0m \u001b[1;33m=\u001b[0m \u001b[0mEarthLocation\u001b[0m\u001b[1;33m(\u001b[0m\u001b[0mLon_Miami\u001b[0m\u001b[1;33m,\u001b[0m\u001b[0mLat_Miami\u001b[0m\u001b[1;33m)\u001b[0m\u001b[1;33m\u001b[0m\u001b[1;33m\u001b[0m\u001b[0m\n\u001b[0m",
      "\u001b[1;31mNameError\u001b[0m: name 'EarthLocation' is not defined"
     ]
    }
   ],
   "source": [
    "Lat_Miami = 35.7 #Latitud de Miami\n",
    "Lon_Miami = -100.6 #Longitud de Miami\n",
    "dT = Lon_Miami / 15 #Diferencia Horaria en Miami\n",
    "Miami = EarthLocation(Lon_Miami,Lat_Miami)"
   ]
  },
  {
   "cell_type": "code",
   "execution_count": 71,
   "metadata": {},
   "outputs": [
    {
     "output_type": "error",
     "ename": "NameError",
     "evalue": "name 'np' is not defined",
     "traceback": [
      "\u001b[1;31m---------------------------------------------------------------------------\u001b[0m",
      "\u001b[1;31mNameError\u001b[0m                                 Traceback (most recent call last)",
      "\u001b[1;32m<ipython-input-71-522bbad34b4b>\u001b[0m in \u001b[0;36m<module>\u001b[1;34m\u001b[0m\n\u001b[0;32m      1\u001b[0m \u001b[0mk\u001b[0m \u001b[1;33m=\u001b[0m \u001b[1;36m7\u001b[0m\u001b[1;33m\u001b[0m\u001b[1;33m\u001b[0m\u001b[0m\n\u001b[1;32m----> 2\u001b[1;33m \u001b[0mHs\u001b[0m \u001b[1;33m=\u001b[0m \u001b[0mnp\u001b[0m\u001b[1;33m.\u001b[0m\u001b[0marray\u001b[0m\u001b[1;33m(\u001b[0m\u001b[0mrange\u001b[0m\u001b[1;33m(\u001b[0m\u001b[1;36m23\u001b[0m\u001b[1;33m)\u001b[0m\u001b[1;33m)\u001b[0m\u001b[1;33m[\u001b[0m\u001b[0mk\u001b[0m\u001b[1;33m:\u001b[0m\u001b[1;36m25\u001b[0m\u001b[1;33m-\u001b[0m\u001b[0mk\u001b[0m\u001b[1;33m]\u001b[0m \u001b[1;31m#Horas donde el Sol está Afuera (Entre k y 25-k)\u001b[0m\u001b[1;33m\u001b[0m\u001b[1;33m\u001b[0m\u001b[0m\n\u001b[0m\u001b[0;32m      3\u001b[0m \u001b[0mNhoras\u001b[0m \u001b[1;33m=\u001b[0m \u001b[0mlen\u001b[0m\u001b[1;33m(\u001b[0m\u001b[0mHs\u001b[0m\u001b[1;33m)\u001b[0m\u001b[1;33m\u001b[0m\u001b[1;33m\u001b[0m\u001b[0m\n\u001b[0;32m      4\u001b[0m \u001b[0mNdias\u001b[0m \u001b[1;33m=\u001b[0m \u001b[1;36m90\u001b[0m \u001b[1;31m#Cantidad de Días del Año a Plottear\u001b[0m\u001b[1;33m\u001b[0m\u001b[1;33m\u001b[0m\u001b[0m\n\u001b[0;32m      5\u001b[0m \u001b[0mDias\u001b[0m \u001b[1;33m=\u001b[0m \u001b[0mnp\u001b[0m\u001b[1;33m.\u001b[0m\u001b[0mlinspace\u001b[0m\u001b[1;33m(\u001b[0m\u001b[1;36m0\u001b[0m\u001b[1;33m,\u001b[0m\u001b[1;36m365\u001b[0m\u001b[1;33m,\u001b[0m\u001b[0mNdias\u001b[0m\u001b[1;33m)\u001b[0m\u001b[1;33m\u001b[0m\u001b[1;33m\u001b[0m\u001b[0m\n",
      "\u001b[1;31mNameError\u001b[0m: name 'np' is not defined"
     ]
    }
   ],
   "source": [
    "k = 7\n",
    "Hs = np.array(range(23))[k:25-k] #Horas donde el Sol está Afuera (Entre k y 25-k)\n",
    "Nhoras = len(Hs)\n",
    "Ndias = 90 #Cantidad de Días del Año a Plottear\n",
    "Dias = np.linspace(0,365,Ndias)\n",
    "\n",
    "Altacim  = np.zeros((Nhoras,Ndias,2)) #Coordenadas Altacimutales del Sol\n",
    "PointsXY = np.zeros((Nhoras,Ndias,2)) #Puntos Coordenados en XY para la Sombra\n",
    "PointsTR = np.zeros((Nhoras,Ndias,2)) #Puntos Coordenados en Polares para la Sombra (TR por Theta y Radio)\n",
    "\n",
    "HoraMinMaxXY = np.zeros((Nhoras,2,2)) #Puntos Máximo y Mínimo para cada hora en Cartesianas\n",
    "HoraMinMaxTR = np.zeros((Nhoras,2,2)) #Puntos Máximo y Mínimo para cada hora en Polares\n",
    "\n",
    "def Sombra(L): #Input es la Lista de Coordenadas Acimut-Altura\n",
    "    if L[1] <= 5: return (None,None)\n",
    "    else:\n",
    "        A,h = np.deg2rad(L)\n",
    "        \n",
    "        #Coordenadas Polares\n",
    "        R = 1/np.tan(h)\n",
    "        th = A - np.pi\n",
    "        \n",
    "        #Coordenadas Cartesianas\n",
    "        x = R*np.sin(th)\n",
    "        y = R*np.cos(th)\n",
    "        \n",
    "        return ((th,R),(x,y))\n",
    "    \n",
    "def minmax(L): #Recibe la lista de puntos y retorna los puntos coordenados más altos y bajos.\n",
    "    #Puntos Mínimos y Máximos a lo largo del eje Y ó R\n",
    "    miny = np.argmin(L,axis=0)[1]\n",
    "    maxy = np.argmax(L,axis=0)[1]\n",
    "    return(np.array([L[miny],L[maxy]]))"
   ]
  },
  {
   "cell_type": "markdown",
   "metadata": {},
   "source": [
    "**El código de aquí abajo tarda un poco pues tiene que calcular la posición del Sol y la proyección $N_{dias}\\times N_{horas}$ veces.**"
   ]
  },
  {
   "cell_type": "code",
   "execution_count": 72,
   "metadata": {},
   "outputs": [
    {
     "output_type": "error",
     "ename": "NameError",
     "evalue": "name 'Nhoras' is not defined",
     "traceback": [
      "\u001b[1;31m---------------------------------------------------------------------------\u001b[0m",
      "\u001b[1;31mNameError\u001b[0m                                 Traceback (most recent call last)",
      "\u001b[1;32m<ipython-input-72-143f50037882>\u001b[0m in \u001b[0;36m<module>\u001b[1;34m\u001b[0m\n\u001b[1;32m----> 1\u001b[1;33m \u001b[1;32mfor\u001b[0m \u001b[0mh\u001b[0m \u001b[1;32min\u001b[0m \u001b[0mrange\u001b[0m\u001b[1;33m(\u001b[0m\u001b[0mNhoras\u001b[0m\u001b[1;33m)\u001b[0m\u001b[1;33m:\u001b[0m\u001b[1;33m\u001b[0m\u001b[1;33m\u001b[0m\u001b[0m\n\u001b[0m\u001b[0;32m      2\u001b[0m     \u001b[1;32mfor\u001b[0m \u001b[0md\u001b[0m \u001b[1;32min\u001b[0m \u001b[0mrange\u001b[0m\u001b[1;33m(\u001b[0m\u001b[0mNdias\u001b[0m\u001b[1;33m)\u001b[0m\u001b[1;33m:\u001b[0m\u001b[1;33m\u001b[0m\u001b[1;33m\u001b[0m\u001b[0m\n\u001b[0;32m      3\u001b[0m         \u001b[0mT0\u001b[0m \u001b[1;33m=\u001b[0m \u001b[0mTime\u001b[0m\u001b[1;33m(\u001b[0m\u001b[1;34m\"2018-12-21 00:00\"\u001b[0m\u001b[1;33m)\u001b[0m \u001b[1;31m#Solsticio de Invierno!\u001b[0m\u001b[1;33m\u001b[0m\u001b[1;33m\u001b[0m\u001b[0m\n\u001b[0;32m      4\u001b[0m         \u001b[0mT\u001b[0m \u001b[1;33m=\u001b[0m \u001b[0mT0\u001b[0m \u001b[1;33m+\u001b[0m \u001b[0mint\u001b[0m\u001b[1;33m(\u001b[0m\u001b[0mDias\u001b[0m\u001b[1;33m[\u001b[0m\u001b[0md\u001b[0m\u001b[1;33m]\u001b[0m\u001b[1;33m)\u001b[0m\u001b[1;33m*\u001b[0m\u001b[0mu\u001b[0m\u001b[1;33m.\u001b[0m\u001b[0mday\u001b[0m \u001b[1;33m+\u001b[0m \u001b[1;33m(\u001b[0m\u001b[0mHs\u001b[0m\u001b[1;33m[\u001b[0m\u001b[0mh\u001b[0m\u001b[1;33m]\u001b[0m \u001b[1;33m-\u001b[0m \u001b[0mdT\u001b[0m\u001b[1;33m)\u001b[0m\u001b[1;33m*\u001b[0m\u001b[0mu\u001b[0m\u001b[1;33m.\u001b[0m\u001b[0mh\u001b[0m \u001b[1;31m#Suman las Horas y los Días\u001b[0m\u001b[1;33m\u001b[0m\u001b[1;33m\u001b[0m\u001b[0m\n\u001b[0;32m      5\u001b[0m         \u001b[0mD\u001b[0m \u001b[1;33m=\u001b[0m \u001b[0mget_sun\u001b[0m\u001b[1;33m(\u001b[0m\u001b[0mT\u001b[0m\u001b[1;33m)\u001b[0m\u001b[1;33m.\u001b[0m\u001b[0mtransform_to\u001b[0m\u001b[1;33m(\u001b[0m\u001b[0mAltAz\u001b[0m\u001b[1;33m(\u001b[0m\u001b[0mlocation\u001b[0m\u001b[1;33m=\u001b[0m\u001b[0mMiami\u001b[0m\u001b[1;33m,\u001b[0m\u001b[0mobstime\u001b[0m\u001b[1;33m=\u001b[0m\u001b[0mT\u001b[0m\u001b[1;33m)\u001b[0m\u001b[1;33m)\u001b[0m \u001b[1;31m#Función de Astropy que saca las Coordenadas Horizontales\u001b[0m\u001b[1;33m\u001b[0m\u001b[1;33m\u001b[0m\u001b[0m\n",
      "\u001b[1;31mNameError\u001b[0m: name 'Nhoras' is not defined"
     ]
    }
   ],
   "source": [
    "for h in range(Nhoras):\n",
    "    for d in range(Ndias):\n",
    "        T0 = Time(\"2018-12-21 00:00\") #Solsticio de Invierno!\n",
    "        T = T0 + int(Dias[d])*u.day + (Hs[h] - dT)*u.h #Suman las Horas y los Días\n",
    "        D = get_sun(T).transform_to(AltAz(location=Miami,obstime=T)) #Función de Astropy que saca las Coordenadas Horizontales\n",
    "        Altacim[h,d,0] = D.az.value\n",
    "        Altacim[h,d,1] = D.alt.value\n",
    "        \n",
    "        PointsTR[h,d],PointsXY[h,d] = Sombra(Altacim[h,d])\n",
    "        \n",
    "    HoraMinMaxXY[h] = minmax(PointsXY[h])\n",
    "    HoraMinMaxTR[h] = minmax(PointsTR[h])"
   ]
  },
  {
   "cell_type": "code",
   "execution_count": 73,
   "metadata": {},
   "outputs": [
    {
     "output_type": "error",
     "ename": "NameError",
     "evalue": "name 'plt' is not defined",
     "traceback": [
      "\u001b[1;31m---------------------------------------------------------------------------\u001b[0m",
      "\u001b[1;31mNameError\u001b[0m                                 Traceback (most recent call last)",
      "\u001b[1;32m<ipython-input-73-4c57b0e955c6>\u001b[0m in \u001b[0;36m<module>\u001b[1;34m\u001b[0m\n\u001b[1;32m----> 1\u001b[1;33m \u001b[0mplt\u001b[0m\u001b[1;33m.\u001b[0m\u001b[0mfigure\u001b[0m\u001b[1;33m(\u001b[0m\u001b[0mfigsize\u001b[0m\u001b[1;33m=\u001b[0m\u001b[1;33m(\u001b[0m\u001b[1;36m12\u001b[0m\u001b[1;33m,\u001b[0m\u001b[1;36m8\u001b[0m\u001b[1;33m)\u001b[0m\u001b[1;33m)\u001b[0m\u001b[1;33m\u001b[0m\u001b[1;33m\u001b[0m\u001b[0m\n\u001b[0m\u001b[0;32m      2\u001b[0m \u001b[0mplt\u001b[0m\u001b[1;33m.\u001b[0m\u001b[0mtitle\u001b[0m\u001b[1;33m(\u001b[0m\u001b[1;34m\"Analemas Horarios del Sol en Miami\"\u001b[0m\u001b[1;33m)\u001b[0m\u001b[1;33m\u001b[0m\u001b[1;33m\u001b[0m\u001b[0m\n\u001b[0;32m      3\u001b[0m \u001b[0mplt\u001b[0m\u001b[1;33m.\u001b[0m\u001b[0mxlabel\u001b[0m\u001b[1;33m(\u001b[0m\u001b[1;34m\"Acimut (°)\"\u001b[0m\u001b[1;33m)\u001b[0m\u001b[1;33m\u001b[0m\u001b[1;33m\u001b[0m\u001b[0m\n\u001b[0;32m      4\u001b[0m \u001b[0mplt\u001b[0m\u001b[1;33m.\u001b[0m\u001b[0mylabel\u001b[0m\u001b[1;33m(\u001b[0m\u001b[1;34m\"Altura (°)\"\u001b[0m\u001b[1;33m)\u001b[0m\u001b[1;33m\u001b[0m\u001b[1;33m\u001b[0m\u001b[0m\n\u001b[0;32m      5\u001b[0m \u001b[0mplt\u001b[0m\u001b[1;33m.\u001b[0m\u001b[0mgrid\u001b[0m\u001b[1;33m(\u001b[0m\u001b[1;33m)\u001b[0m\u001b[1;33m\u001b[0m\u001b[1;33m\u001b[0m\u001b[0m\n",
      "\u001b[1;31mNameError\u001b[0m: name 'plt' is not defined"
     ]
    }
   ],
   "source": [
    "plt.figure(figsize=(12,8))\n",
    "plt.title(\"Analemas Horarios del Sol en Miami\")\n",
    "plt.xlabel(\"Acimut (°)\")\n",
    "plt.ylabel(\"Altura (°)\")\n",
    "plt.grid()\n",
    "for h in range(Nhoras):\n",
    "    plt.plot(Altacim[h][:,0],Altacim[h][:,1],label=h)"
   ]
  },
  {
   "cell_type": "code",
   "execution_count": 74,
   "metadata": {},
   "outputs": [
    {
     "output_type": "error",
     "ename": "NameError",
     "evalue": "name 'plt' is not defined",
     "traceback": [
      "\u001b[1;31m---------------------------------------------------------------------------\u001b[0m",
      "\u001b[1;31mNameError\u001b[0m                                 Traceback (most recent call last)",
      "\u001b[1;32m<ipython-input-74-d0dc5060468d>\u001b[0m in \u001b[0;36m<module>\u001b[1;34m\u001b[0m\n\u001b[1;32m----> 1\u001b[1;33m \u001b[0mplt\u001b[0m\u001b[1;33m.\u001b[0m\u001b[0mfigure\u001b[0m\u001b[1;33m(\u001b[0m\u001b[0mfigsize\u001b[0m\u001b[1;33m=\u001b[0m\u001b[1;33m(\u001b[0m\u001b[1;36m8\u001b[0m\u001b[1;33m,\u001b[0m\u001b[1;36m8\u001b[0m\u001b[1;33m)\u001b[0m\u001b[1;33m)\u001b[0m\u001b[1;33m\u001b[0m\u001b[1;33m\u001b[0m\u001b[0m\n\u001b[0m\u001b[0;32m      2\u001b[0m \u001b[0mplt\u001b[0m\u001b[1;33m.\u001b[0m\u001b[0mtitle\u001b[0m\u001b[1;33m(\u001b[0m\u001b[1;34m\"Trazas de Sombras\"\u001b[0m\u001b[1;33m)\u001b[0m\u001b[1;33m\u001b[0m\u001b[1;33m\u001b[0m\u001b[0m\n\u001b[0;32m      3\u001b[0m \u001b[0mplt\u001b[0m\u001b[1;33m.\u001b[0m\u001b[0mgrid\u001b[0m\u001b[1;33m(\u001b[0m\u001b[1;33m)\u001b[0m\u001b[1;33m\u001b[0m\u001b[1;33m\u001b[0m\u001b[0m\n\u001b[0;32m      4\u001b[0m \u001b[0mplt\u001b[0m\u001b[1;33m.\u001b[0m\u001b[0mxlim\u001b[0m\u001b[1;33m(\u001b[0m\u001b[1;33m[\u001b[0m\u001b[1;33m-\u001b[0m\u001b[1;36m2.5\u001b[0m\u001b[1;33m,\u001b[0m\u001b[1;36m2.5\u001b[0m\u001b[1;33m]\u001b[0m\u001b[1;33m)\u001b[0m\u001b[1;33m\u001b[0m\u001b[1;33m\u001b[0m\u001b[0m\n\u001b[0;32m      5\u001b[0m \u001b[0mplt\u001b[0m\u001b[1;33m.\u001b[0m\u001b[0mylim\u001b[0m\u001b[1;33m(\u001b[0m\u001b[1;33m[\u001b[0m\u001b[1;33m-\u001b[0m\u001b[1;36m1\u001b[0m\u001b[1;33m,\u001b[0m\u001b[1;36m4\u001b[0m\u001b[1;33m]\u001b[0m\u001b[1;33m)\u001b[0m\u001b[1;33m\u001b[0m\u001b[1;33m\u001b[0m\u001b[0m\n",
      "\u001b[1;31mNameError\u001b[0m: name 'plt' is not defined"
     ]
    }
   ],
   "source": [
    "plt.figure(figsize=(8,8))\n",
    "plt.title(\"Trazas de Sombras\")\n",
    "plt.grid()\n",
    "plt.xlim([-2.5,2.5])\n",
    "plt.ylim([-1,4])\n",
    "for h in range(Nhoras):\n",
    "    plt.plot(-PointsXY[h][:,0],PointsXY[h][:,1])\n",
    "    plt.plot(HoraMinMaxXY[h][:,0],HoraMinMaxXY[h][:,1],color='grey')"
   ]
  },
  {
   "cell_type": "code",
   "execution_count": 75,
   "metadata": {},
   "outputs": [
    {
     "output_type": "error",
     "ename": "NameError",
     "evalue": "name 'plt' is not defined",
     "traceback": [
      "\u001b[1;31m---------------------------------------------------------------------------\u001b[0m",
      "\u001b[1;31mNameError\u001b[0m                                 Traceback (most recent call last)",
      "\u001b[1;32m<ipython-input-75-8010a1898be5>\u001b[0m in \u001b[0;36m<module>\u001b[1;34m\u001b[0m\n\u001b[1;32m----> 1\u001b[1;33m \u001b[0mfig\u001b[0m \u001b[1;33m=\u001b[0m \u001b[0mplt\u001b[0m\u001b[1;33m.\u001b[0m\u001b[0mfigure\u001b[0m\u001b[1;33m(\u001b[0m\u001b[0mfigsize\u001b[0m\u001b[1;33m=\u001b[0m\u001b[1;33m(\u001b[0m\u001b[1;36m12\u001b[0m\u001b[1;33m,\u001b[0m\u001b[1;36m8\u001b[0m\u001b[1;33m)\u001b[0m\u001b[1;33m)\u001b[0m\u001b[1;33m\u001b[0m\u001b[1;33m\u001b[0m\u001b[0m\n\u001b[0m\u001b[0;32m      2\u001b[0m \u001b[0max\u001b[0m \u001b[1;33m=\u001b[0m \u001b[0mfig\u001b[0m\u001b[1;33m.\u001b[0m\u001b[0madd_subplot\u001b[0m\u001b[1;33m(\u001b[0m\u001b[1;36m111\u001b[0m\u001b[1;33m,\u001b[0m \u001b[0mprojection\u001b[0m\u001b[1;33m=\u001b[0m\u001b[1;34m'polar'\u001b[0m\u001b[1;33m)\u001b[0m\u001b[1;33m\u001b[0m\u001b[1;33m\u001b[0m\u001b[0m\n\u001b[0;32m      3\u001b[0m \u001b[0mplt\u001b[0m\u001b[1;33m.\u001b[0m\u001b[0mtitle\u001b[0m\u001b[1;33m(\u001b[0m\u001b[1;34m\"Trazas de Sombras\"\u001b[0m\u001b[1;33m)\u001b[0m\u001b[1;33m\u001b[0m\u001b[1;33m\u001b[0m\u001b[0m\n\u001b[0;32m      4\u001b[0m \u001b[0mplt\u001b[0m\u001b[1;33m.\u001b[0m\u001b[0mgrid\u001b[0m\u001b[1;33m(\u001b[0m\u001b[1;32mTrue\u001b[0m\u001b[1;33m)\u001b[0m\u001b[1;33m\u001b[0m\u001b[1;33m\u001b[0m\u001b[0m\n\u001b[0;32m      5\u001b[0m \u001b[0mplt\u001b[0m\u001b[1;33m.\u001b[0m\u001b[0mylim\u001b[0m\u001b[1;33m(\u001b[0m\u001b[1;33m[\u001b[0m\u001b[1;36m0\u001b[0m\u001b[1;33m,\u001b[0m\u001b[1;36m3\u001b[0m\u001b[1;33m]\u001b[0m\u001b[1;33m)\u001b[0m\u001b[1;33m\u001b[0m\u001b[1;33m\u001b[0m\u001b[0m\n",
      "\u001b[1;31mNameError\u001b[0m: name 'plt' is not defined"
     ]
    }
   ],
   "source": [
    "fig = plt.figure(figsize=(12,8))\n",
    "ax = fig.add_subplot(111, projection='polar')\n",
    "plt.title(\"Trazas de Sombras\")\n",
    "plt.grid(True)\n",
    "plt.ylim([0,3])\n",
    "k = 1\n",
    "for h in range(Nhoras):\n",
    "    plt.plot(PointsTR[h][:,0]+np.pi/2,PointsTR[h][:,1])\n",
    "    plt.plot(HoraMinMaxTR[h][:,0]+np.pi/2,HoraMinMaxTR[h][:,1],color='grey')"
   ]
  },
  {
   "cell_type": "code",
   "execution_count": 76,
   "metadata": {},
   "outputs": [
    {
     "output_type": "error",
     "ename": "NameError",
     "evalue": "name 'np' is not defined",
     "traceback": [
      "\u001b[1;31m---------------------------------------------------------------------------\u001b[0m",
      "\u001b[1;31mNameError\u001b[0m                                 Traceback (most recent call last)",
      "\u001b[1;32m<ipython-input-76-2bb68249d527>\u001b[0m in \u001b[0;36m<module>\u001b[1;34m\u001b[0m\n\u001b[1;32m----> 1\u001b[1;33m \u001b[0mPointsTR2\u001b[0m \u001b[1;33m=\u001b[0m \u001b[0mnp\u001b[0m\u001b[1;33m.\u001b[0m\u001b[0mzeros\u001b[0m\u001b[1;33m(\u001b[0m\u001b[1;33m(\u001b[0m\u001b[0mNdias\u001b[0m\u001b[1;33m,\u001b[0m\u001b[0mNhoras\u001b[0m\u001b[1;33m,\u001b[0m\u001b[1;36m2\u001b[0m\u001b[1;33m)\u001b[0m\u001b[1;33m)\u001b[0m\u001b[1;33m\u001b[0m\u001b[1;33m\u001b[0m\u001b[0m\n\u001b[0m\u001b[0;32m      2\u001b[0m \u001b[0mPointsXY2\u001b[0m \u001b[1;33m=\u001b[0m \u001b[0mnp\u001b[0m\u001b[1;33m.\u001b[0m\u001b[0mzeros\u001b[0m\u001b[1;33m(\u001b[0m\u001b[1;33m(\u001b[0m\u001b[0mNdias\u001b[0m\u001b[1;33m,\u001b[0m\u001b[0mNhoras\u001b[0m\u001b[1;33m,\u001b[0m\u001b[1;36m2\u001b[0m\u001b[1;33m)\u001b[0m\u001b[1;33m)\u001b[0m\u001b[1;33m\u001b[0m\u001b[1;33m\u001b[0m\u001b[0m\n\u001b[0;32m      3\u001b[0m \u001b[1;33m\u001b[0m\u001b[0m\n\u001b[0;32m      4\u001b[0m \u001b[1;32mfor\u001b[0m \u001b[0md\u001b[0m \u001b[1;32min\u001b[0m \u001b[0mrange\u001b[0m\u001b[1;33m(\u001b[0m\u001b[0mNdias\u001b[0m\u001b[1;33m)\u001b[0m\u001b[1;33m:\u001b[0m\u001b[1;33m\u001b[0m\u001b[1;33m\u001b[0m\u001b[0m\n\u001b[0;32m      5\u001b[0m     \u001b[1;32mfor\u001b[0m \u001b[0mh\u001b[0m \u001b[1;32min\u001b[0m \u001b[0mrange\u001b[0m\u001b[1;33m(\u001b[0m\u001b[0mNhoras\u001b[0m\u001b[1;33m)\u001b[0m\u001b[1;33m:\u001b[0m\u001b[1;33m\u001b[0m\u001b[1;33m\u001b[0m\u001b[0m\n",
      "\u001b[1;31mNameError\u001b[0m: name 'np' is not defined"
     ]
    }
   ],
   "source": [
    "PointsTR2 = np.zeros((Ndias,Nhoras,2))\n",
    "PointsXY2 = np.zeros((Ndias,Nhoras,2))\n",
    "\n",
    "for d in range(Ndias):\n",
    "    for h in range(Nhoras):\n",
    "        PointsTR2[d,h] = PointsTR[h,d]\n",
    "        PointsXY2[d,h] = PointsTR[h,d]"
   ]
  },
  {
   "cell_type": "code",
   "execution_count": 77,
   "metadata": {},
   "outputs": [
    {
     "output_type": "error",
     "ename": "NameError",
     "evalue": "name 'plt' is not defined",
     "traceback": [
      "\u001b[1;31m---------------------------------------------------------------------------\u001b[0m",
      "\u001b[1;31mNameError\u001b[0m                                 Traceback (most recent call last)",
      "\u001b[1;32m<ipython-input-77-2b936b214c08>\u001b[0m in \u001b[0;36m<module>\u001b[1;34m\u001b[0m\n\u001b[1;32m----> 1\u001b[1;33m \u001b[0mfig\u001b[0m \u001b[1;33m=\u001b[0m \u001b[0mplt\u001b[0m\u001b[1;33m.\u001b[0m\u001b[0mfigure\u001b[0m\u001b[1;33m(\u001b[0m\u001b[0mfigsize\u001b[0m\u001b[1;33m=\u001b[0m\u001b[1;33m(\u001b[0m\u001b[1;36m12\u001b[0m\u001b[1;33m,\u001b[0m\u001b[1;36m8\u001b[0m\u001b[1;33m)\u001b[0m\u001b[1;33m)\u001b[0m\u001b[1;33m\u001b[0m\u001b[1;33m\u001b[0m\u001b[0m\n\u001b[0m\u001b[0;32m      2\u001b[0m \u001b[0max\u001b[0m \u001b[1;33m=\u001b[0m \u001b[0mfig\u001b[0m\u001b[1;33m.\u001b[0m\u001b[0madd_subplot\u001b[0m\u001b[1;33m(\u001b[0m\u001b[1;36m111\u001b[0m\u001b[1;33m,\u001b[0m \u001b[0mprojection\u001b[0m\u001b[1;33m=\u001b[0m\u001b[1;34m'polar'\u001b[0m\u001b[1;33m)\u001b[0m\u001b[1;33m\u001b[0m\u001b[1;33m\u001b[0m\u001b[0m\n\u001b[0;32m      3\u001b[0m \u001b[0mplt\u001b[0m\u001b[1;33m.\u001b[0m\u001b[0myticks\u001b[0m\u001b[1;33m(\u001b[0m\u001b[0mnp\u001b[0m\u001b[1;33m.\u001b[0m\u001b[0marange\u001b[0m\u001b[1;33m(\u001b[0m\u001b[1;36m0\u001b[0m\u001b[1;33m,\u001b[0m \u001b[1;36m5\u001b[0m\u001b[1;33m,\u001b[0m \u001b[1;36m0.5\u001b[0m\u001b[1;33m)\u001b[0m\u001b[1;33m,\u001b[0m\u001b[1;33m[\u001b[0m\u001b[1;33m]\u001b[0m\u001b[1;33m)\u001b[0m\u001b[1;33m\u001b[0m\u001b[1;33m\u001b[0m\u001b[0m\n\u001b[0;32m      4\u001b[0m \u001b[0mplt\u001b[0m\u001b[1;33m.\u001b[0m\u001b[0mtitle\u001b[0m\u001b[1;33m(\u001b[0m\u001b[1;34m\"Trazas de Sombras\"\u001b[0m\u001b[1;33m)\u001b[0m\u001b[1;33m\u001b[0m\u001b[1;33m\u001b[0m\u001b[0m\n\u001b[0;32m      5\u001b[0m \u001b[0mplt\u001b[0m\u001b[1;33m.\u001b[0m\u001b[0mgrid\u001b[0m\u001b[1;33m(\u001b[0m\u001b[1;32mTrue\u001b[0m\u001b[1;33m)\u001b[0m\u001b[1;33m\u001b[0m\u001b[1;33m\u001b[0m\u001b[0m\n",
      "\u001b[1;31mNameError\u001b[0m: name 'plt' is not defined"
     ]
    }
   ],
   "source": [
    "fig = plt.figure(figsize=(12,8))\n",
    "ax = fig.add_subplot(111, projection='polar')\n",
    "plt.yticks(np.arange(0, 5, 0.5),[])\n",
    "plt.title(\"Trazas de Sombras\")\n",
    "plt.grid(True)\n",
    "plt.ylim([0,4])\n",
    "\n",
    "\n",
    "Nums = np.linspace(0,Ndias,13) #Nums divide el año en los 12 meses\n",
    "Meses = ['Enero','Febrero','Marzo','Abril','Mayo',\n",
    "        'Junio','Julio','Agosto','Septiembre',\n",
    "        'Octubre','Noviembre','Diciembre']\n",
    "c = 0\n",
    "for h in Nums[:7]: #Pero solo se usa la mitad de Nums porque las lineas de Meses no coinciden exactamente y se ve feo\n",
    "    k = int(h) - 1\n",
    "    if c < 7:\n",
    "        txt = Meses[c-1]+\"-\"+Meses[-c-1]\n",
    "    else: txt=None\n",
    "    plt.plot(PointsTR2[k][:,0]+np.pi/2,PointsTR2[k][:,1],label=txt)\n",
    "    c += 1\n",
    "plt.legend(loc=[0.35,0.2])    \n",
    "\n",
    "for h in range(Nhoras):\n",
    "    plt.plot(HoraMinMaxTR[h][:,0]+np.pi/2,HoraMinMaxTR[h][:,1],'k-')\n",
    "    \n",
    "    n = 24-h-7\n",
    "    txt = str(n)+\"h\"\n",
    "    plt.annotate(s=txt,xy=HoraMinMaxTR[h][1]+[1.03*np.pi/2,0.2])\n",
    "    \n"
   ]
  },
  {
   "cell_type": "code",
   "execution_count": 78,
   "metadata": {},
   "outputs": [
    {
     "output_type": "error",
     "ename": "NameError",
     "evalue": "name 'plt' is not defined",
     "traceback": [
      "\u001b[1;31m---------------------------------------------------------------------------\u001b[0m",
      "\u001b[1;31mNameError\u001b[0m                                 Traceback (most recent call last)",
      "\u001b[1;32m<ipython-input-78-26c2659e36df>\u001b[0m in \u001b[0;36m<module>\u001b[1;34m\u001b[0m\n\u001b[1;32m----> 1\u001b[1;33m \u001b[0mfig\u001b[0m \u001b[1;33m=\u001b[0m \u001b[0mplt\u001b[0m\u001b[1;33m.\u001b[0m\u001b[0mfigure\u001b[0m\u001b[1;33m(\u001b[0m\u001b[0mfigsize\u001b[0m\u001b[1;33m=\u001b[0m\u001b[1;33m(\u001b[0m\u001b[1;36m12\u001b[0m\u001b[1;33m,\u001b[0m\u001b[1;36m8\u001b[0m\u001b[1;33m)\u001b[0m\u001b[1;33m)\u001b[0m\u001b[1;33m\u001b[0m\u001b[1;33m\u001b[0m\u001b[0m\n\u001b[0m\u001b[0;32m      2\u001b[0m \u001b[0max\u001b[0m \u001b[1;33m=\u001b[0m \u001b[0mfig\u001b[0m\u001b[1;33m.\u001b[0m\u001b[0madd_subplot\u001b[0m\u001b[1;33m(\u001b[0m\u001b[1;36m111\u001b[0m\u001b[1;33m,\u001b[0m \u001b[0mprojection\u001b[0m\u001b[1;33m=\u001b[0m\u001b[1;34m'polar'\u001b[0m\u001b[1;33m)\u001b[0m\u001b[1;33m\u001b[0m\u001b[1;33m\u001b[0m\u001b[0m\n\u001b[0;32m      3\u001b[0m \u001b[0mplt\u001b[0m\u001b[1;33m.\u001b[0m\u001b[0myticks\u001b[0m\u001b[1;33m(\u001b[0m\u001b[0mnp\u001b[0m\u001b[1;33m.\u001b[0m\u001b[0marange\u001b[0m\u001b[1;33m(\u001b[0m\u001b[1;36m0\u001b[0m\u001b[1;33m,\u001b[0m \u001b[1;36m5\u001b[0m\u001b[1;33m,\u001b[0m \u001b[1;36m0.5\u001b[0m\u001b[1;33m)\u001b[0m\u001b[1;33m,\u001b[0m\u001b[1;33m[\u001b[0m\u001b[1;33m]\u001b[0m\u001b[1;33m)\u001b[0m\u001b[1;33m\u001b[0m\u001b[1;33m\u001b[0m\u001b[0m\n\u001b[0;32m      4\u001b[0m \u001b[0mplt\u001b[0m\u001b[1;33m.\u001b[0m\u001b[0mtitle\u001b[0m\u001b[1;33m(\u001b[0m\u001b[1;34m\"Trazas de Sombras \\n Con Ecuación del Tiempo\"\u001b[0m\u001b[1;33m)\u001b[0m\u001b[1;33m\u001b[0m\u001b[1;33m\u001b[0m\u001b[0m\n\u001b[0;32m      5\u001b[0m \u001b[0mplt\u001b[0m\u001b[1;33m.\u001b[0m\u001b[0mgrid\u001b[0m\u001b[1;33m(\u001b[0m\u001b[1;32mTrue\u001b[0m\u001b[1;33m)\u001b[0m\u001b[1;33m\u001b[0m\u001b[1;33m\u001b[0m\u001b[0m\n",
      "\u001b[1;31mNameError\u001b[0m: name 'plt' is not defined"
     ]
    }
   ],
   "source": [
    "fig = plt.figure(figsize=(12,8))\n",
    "ax = fig.add_subplot(111, projection='polar')\n",
    "plt.yticks(np.arange(0, 5, 0.5),[])\n",
    "plt.title(\"Trazas de Sombras \\n Con Ecuación del Tiempo\")\n",
    "plt.grid(True)\n",
    "plt.ylim([0,4])\n",
    "\n",
    "\n",
    "Nums = np.linspace(0,Ndias,13)\n",
    "print(Nums)\n",
    "Meses = ['Enero','Febrero','Marzo','Abril','Mayo',\n",
    "        'Junio','Julio','Agosto','Septiembre',\n",
    "        'Octubre','Noviembre','Diciembre']\n",
    "c = 0\n",
    "for h in Nums[:7]:\n",
    "    k = int(h) - 1\n",
    "    if c < 7:\n",
    "        txt = Meses[c-1]+\"-\"+Meses[-c-1]\n",
    "    else: txt=None\n",
    "    plt.plot(PointsTR2[k][:,0]+np.pi/2,PointsTR2[k][:,1],label=txt)\n",
    "    c += 1\n",
    "plt.legend(loc=[0.35,0.2])    \n",
    "\n",
    "for h in range(Nhoras):\n",
    "    plt.plot(PointsTR[h][:,0]+np.pi/2,PointsTR[h][:,1],'k-')\n",
    "    \n",
    "    n = 24-h-7\n",
    "    txt = str(n)+\"h\"\n",
    "    plt.annotate(s=txt,xy=HoraMinMaxTR[h][1]+[1.03*np.pi/2,0.2])"
   ]
  },
  {
   "cell_type": "code",
   "execution_count": 79,
   "metadata": {},
   "outputs": [
    {
     "output_type": "error",
     "ename": "NameError",
     "evalue": "name 'Altacim' is not defined",
     "traceback": [
      "\u001b[1;31m---------------------------------------------------------------------------\u001b[0m",
      "\u001b[1;31mNameError\u001b[0m                                 Traceback (most recent call last)",
      "\u001b[1;32m<ipython-input-79-064f3d38fd03>\u001b[0m in \u001b[0;36m<module>\u001b[1;34m\u001b[0m\n\u001b[1;32m----> 1\u001b[1;33m \u001b[0msave3d\u001b[0m\u001b[1;33m(\u001b[0m\u001b[1;34m\"Altacim\"\u001b[0m\u001b[1;33m,\u001b[0m\u001b[0mAltacim\u001b[0m\u001b[1;33m)\u001b[0m\u001b[1;33m\u001b[0m\u001b[1;33m\u001b[0m\u001b[0m\n\u001b[0m\u001b[0;32m      2\u001b[0m \u001b[0msave3d\u001b[0m\u001b[1;33m(\u001b[0m\u001b[1;34m\"PointsXY\"\u001b[0m\u001b[1;33m,\u001b[0m\u001b[0mPointsXY\u001b[0m\u001b[1;33m)\u001b[0m\u001b[1;33m\u001b[0m\u001b[1;33m\u001b[0m\u001b[0m\n\u001b[0;32m      3\u001b[0m \u001b[0msave3d\u001b[0m\u001b[1;33m(\u001b[0m\u001b[1;34m\"PointsTR\"\u001b[0m\u001b[1;33m,\u001b[0m\u001b[0mPointsTR\u001b[0m\u001b[1;33m)\u001b[0m\u001b[1;33m\u001b[0m\u001b[1;33m\u001b[0m\u001b[0m\n\u001b[0;32m      4\u001b[0m \u001b[0msave3d\u001b[0m\u001b[1;33m(\u001b[0m\u001b[1;34m\"PointsXY2\"\u001b[0m\u001b[1;33m,\u001b[0m\u001b[0mPointsXY2\u001b[0m\u001b[1;33m)\u001b[0m\u001b[1;33m\u001b[0m\u001b[1;33m\u001b[0m\u001b[0m\n\u001b[0;32m      5\u001b[0m \u001b[0msave3d\u001b[0m\u001b[1;33m(\u001b[0m\u001b[1;34m\"PointsTR2\"\u001b[0m\u001b[1;33m,\u001b[0m\u001b[0mPointsTR2\u001b[0m\u001b[1;33m)\u001b[0m\u001b[1;33m\u001b[0m\u001b[1;33m\u001b[0m\u001b[0m\n",
      "\u001b[1;31mNameError\u001b[0m: name 'Altacim' is not defined"
     ]
    }
   ],
   "source": [
    "save3d(\"Altacim\",Altacim)\n",
    "save3d(\"PointsXY\",PointsXY)\n",
    "save3d(\"PointsTR\",PointsTR)\n",
    "save3d(\"PointsXY2\",PointsXY2)\n",
    "save3d(\"PointsTR2\",PointsTR2)\n",
    "save3d(\"HoraMinMaxXY\",HoraMinMaxXY)\n",
    "save3d(\"HoraMinMaxTR\",HoraMinMaxTR)"
   ]
  }
 ],
 "metadata": {
  "kernelspec": {
   "display_name": "Python 3",
   "language": "python",
   "name": "python3"
  },
  "language_info": {
   "codemirror_mode": {
    "name": "ipython",
    "version": 3
   },
   "file_extension": ".py",
   "mimetype": "text/x-python",
   "name": "python",
   "nbconvert_exporter": "python",
   "pygments_lexer": "ipython3",
   "version": "3.8.2-final"
  }
 },
 "nbformat": 4,
 "nbformat_minor": 2
}